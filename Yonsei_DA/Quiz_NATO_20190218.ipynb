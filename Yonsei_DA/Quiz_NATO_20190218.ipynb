{
 "cells": [
  {
   "cell_type": "code",
   "execution_count": 17,
   "metadata": {},
   "outputs": [],
   "source": [
    "def decode_p(nato):\n",
    "    nato = nato.split(\"-\")\n",
    "    for i in nato:\n",
    "        if i.upper() == \"SPACE\":\n",
    "            print(\"{:1}\".format(\" \"), end=\"\")\n",
    "        else:\n",
    "            s = str(i)[0].upper()\n",
    "            print(s, end=\"\")"
   ]
  },
  {
   "cell_type": "code",
   "execution_count": 19,
   "metadata": {},
   "outputs": [
    {
     "name": "stdout",
     "output_type": "stream",
     "text": [
      "NATO 음성 문자열을 입력하세요: lIMA-OSCAR\n",
      "LO"
     ]
    }
   ],
   "source": [
    "nato = input(\"NATO 음성 문자열을 입력하세요: \", )\n",
    "decode_p(nato)"
   ]
  },
  {
   "cell_type": "code",
   "execution_count": null,
   "metadata": {},
   "outputs": [],
   "source": [
    "ALFA-WHISHY-KILO\n",
    "lIMA-OSCAR\n",
    "ECHO-LIMA-SPACE-BRAVO-SIERRA"
   ]
  }
 ],
 "metadata": {
  "kernelspec": {
   "display_name": "Python 3",
   "language": "python",
   "name": "python3"
  },
  "language_info": {
   "codemirror_mode": {
    "name": "ipython",
    "version": 3
   },
   "file_extension": ".py",
   "mimetype": "text/x-python",
   "name": "python",
   "nbconvert_exporter": "python",
   "pygments_lexer": "ipython3",
   "version": "3.6.8"
  }
 },
 "nbformat": 4,
 "nbformat_minor": 2
}
